{
 "cells": [
  {
   "cell_type": "markdown",
   "metadata": {},
   "source": [
    "**This notebook is an exercise in the [Intermediate Machine Learning](https://www.kaggle.com/learn/intermediate-machine-learning) course.  You can reference the tutorial at [this link](https://www.kaggle.com/alexisbcook/categorical-variables).**\n",
    "\n",
    "---\n"
   ]
  },
  {
   "cell_type": "markdown",
   "metadata": {},
   "source": [
    "By encoding **categorical variables**, you'll obtain your best results thus far!\n",
    "\n",
    "# Setup\n",
    "\n",
    "The questions below will give you feedback on your work. Run the following cell to set up the feedback system."
   ]
  },
  {
   "cell_type": "code",
   "execution_count": 1,
   "metadata": {},
   "outputs": [],
   "source": [
    "# Set up code checking\n",
    "import os\n",
    "\n"
   ]
  },
  {
   "cell_type": "markdown",
   "metadata": {},
   "source": [
    "In this exercise, you will work with data from the [Housing Prices Competition for Kaggle Learn Users](https://www.kaggle.com/c/home-data-for-ml-course). \n",
    "\n",
    "![Ames Housing dataset image](https://storage.googleapis.com/kaggle-media/learn/images/lTJVG4e.png)\n",
    "\n",
    "Run the next code cell without changes to load the training and validation sets in `X_train`, `X_valid`, `y_train`, and `y_valid`.  The test set is loaded in `X_test`."
   ]
  },
  {
   "cell_type": "code",
   "execution_count": 2,
   "metadata": {},
   "outputs": [],
   "source": [
    "import pandas as pd\n",
    "from sklearn.model_selection import train_test_split\n",
    "\n",
    "# Read the data\n",
    "X = pd.read_csv('\\\\Users\\\\512391\\\\Downloads\\\\IntermediateMachineLearning-20250428T164612Z-001\\\\IntermediateMachineLearning\\\\home-data-for-ml-course\\\\train.csv', index_col='Id') \n",
    "X_test = pd.read_csv('\\\\Users\\\\512391\\\\Downloads\\\\IntermediateMachineLearning-20250428T164612Z-001\\\\IntermediateMachineLearning\\\\home-data-for-ml-course\\\\test.csv', index_col='Id')\n",
    "\n",
    "# Remove rows with missing target, separate target from predictors\n",
    "X.dropna(axis=0, subset=['SalePrice'], inplace=True)\n",
    "y = X.SalePrice\n",
    "X.drop(['SalePrice'], axis=1, inplace=True)\n",
    "\n",
    "# To keep things simple, we'll drop columns with missing values\n",
    "cols_with_missing = [col for col in X.columns if X[col].isnull().any()] \n",
    "X.drop(cols_with_missing, axis=1, inplace=True)\n",
    "X_test.drop(cols_with_missing, axis=1, inplace=True)\n",
    "\n",
    "# Break off validation set from training data\n",
    "X_train, X_valid, y_train, y_valid = train_test_split(X, y,\n",
    "                                                      train_size=0.8, test_size=0.2,\n",
    "                                                      random_state=0)"
   ]
  },
  {
   "cell_type": "markdown",
   "metadata": {},
   "source": [
    "Use the next code cell to print the first five rows of the data."
   ]
  },
  {
   "cell_type": "code",
   "execution_count": 3,
   "metadata": {},
   "outputs": [
    {
     "data": {
      "text/html": [
       "<div>\n",
       "<style scoped>\n",
       "    .dataframe tbody tr th:only-of-type {\n",
       "        vertical-align: middle;\n",
       "    }\n",
       "\n",
       "    .dataframe tbody tr th {\n",
       "        vertical-align: top;\n",
       "    }\n",
       "\n",
       "    .dataframe thead th {\n",
       "        text-align: right;\n",
       "    }\n",
       "</style>\n",
       "<table border=\"1\" class=\"dataframe\">\n",
       "  <thead>\n",
       "    <tr style=\"text-align: right;\">\n",
       "      <th></th>\n",
       "      <th>MSSubClass</th>\n",
       "      <th>MSZoning</th>\n",
       "      <th>LotArea</th>\n",
       "      <th>Street</th>\n",
       "      <th>LotShape</th>\n",
       "      <th>LandContour</th>\n",
       "      <th>Utilities</th>\n",
       "      <th>LotConfig</th>\n",
       "      <th>LandSlope</th>\n",
       "      <th>Neighborhood</th>\n",
       "      <th>...</th>\n",
       "      <th>OpenPorchSF</th>\n",
       "      <th>EnclosedPorch</th>\n",
       "      <th>3SsnPorch</th>\n",
       "      <th>ScreenPorch</th>\n",
       "      <th>PoolArea</th>\n",
       "      <th>MiscVal</th>\n",
       "      <th>MoSold</th>\n",
       "      <th>YrSold</th>\n",
       "      <th>SaleType</th>\n",
       "      <th>SaleCondition</th>\n",
       "    </tr>\n",
       "    <tr>\n",
       "      <th>Id</th>\n",
       "      <th></th>\n",
       "      <th></th>\n",
       "      <th></th>\n",
       "      <th></th>\n",
       "      <th></th>\n",
       "      <th></th>\n",
       "      <th></th>\n",
       "      <th></th>\n",
       "      <th></th>\n",
       "      <th></th>\n",
       "      <th></th>\n",
       "      <th></th>\n",
       "      <th></th>\n",
       "      <th></th>\n",
       "      <th></th>\n",
       "      <th></th>\n",
       "      <th></th>\n",
       "      <th></th>\n",
       "      <th></th>\n",
       "      <th></th>\n",
       "      <th></th>\n",
       "    </tr>\n",
       "  </thead>\n",
       "  <tbody>\n",
       "    <tr>\n",
       "      <th>619</th>\n",
       "      <td>20</td>\n",
       "      <td>RL</td>\n",
       "      <td>11694</td>\n",
       "      <td>Pave</td>\n",
       "      <td>Reg</td>\n",
       "      <td>Lvl</td>\n",
       "      <td>AllPub</td>\n",
       "      <td>Inside</td>\n",
       "      <td>Gtl</td>\n",
       "      <td>NridgHt</td>\n",
       "      <td>...</td>\n",
       "      <td>108</td>\n",
       "      <td>0</td>\n",
       "      <td>0</td>\n",
       "      <td>260</td>\n",
       "      <td>0</td>\n",
       "      <td>0</td>\n",
       "      <td>7</td>\n",
       "      <td>2007</td>\n",
       "      <td>New</td>\n",
       "      <td>Partial</td>\n",
       "    </tr>\n",
       "    <tr>\n",
       "      <th>871</th>\n",
       "      <td>20</td>\n",
       "      <td>RL</td>\n",
       "      <td>6600</td>\n",
       "      <td>Pave</td>\n",
       "      <td>Reg</td>\n",
       "      <td>Lvl</td>\n",
       "      <td>AllPub</td>\n",
       "      <td>Inside</td>\n",
       "      <td>Gtl</td>\n",
       "      <td>NAmes</td>\n",
       "      <td>...</td>\n",
       "      <td>0</td>\n",
       "      <td>0</td>\n",
       "      <td>0</td>\n",
       "      <td>0</td>\n",
       "      <td>0</td>\n",
       "      <td>0</td>\n",
       "      <td>8</td>\n",
       "      <td>2009</td>\n",
       "      <td>WD</td>\n",
       "      <td>Normal</td>\n",
       "    </tr>\n",
       "    <tr>\n",
       "      <th>93</th>\n",
       "      <td>30</td>\n",
       "      <td>RL</td>\n",
       "      <td>13360</td>\n",
       "      <td>Pave</td>\n",
       "      <td>IR1</td>\n",
       "      <td>HLS</td>\n",
       "      <td>AllPub</td>\n",
       "      <td>Inside</td>\n",
       "      <td>Gtl</td>\n",
       "      <td>Crawfor</td>\n",
       "      <td>...</td>\n",
       "      <td>0</td>\n",
       "      <td>44</td>\n",
       "      <td>0</td>\n",
       "      <td>0</td>\n",
       "      <td>0</td>\n",
       "      <td>0</td>\n",
       "      <td>8</td>\n",
       "      <td>2009</td>\n",
       "      <td>WD</td>\n",
       "      <td>Normal</td>\n",
       "    </tr>\n",
       "    <tr>\n",
       "      <th>818</th>\n",
       "      <td>20</td>\n",
       "      <td>RL</td>\n",
       "      <td>13265</td>\n",
       "      <td>Pave</td>\n",
       "      <td>IR1</td>\n",
       "      <td>Lvl</td>\n",
       "      <td>AllPub</td>\n",
       "      <td>CulDSac</td>\n",
       "      <td>Gtl</td>\n",
       "      <td>Mitchel</td>\n",
       "      <td>...</td>\n",
       "      <td>59</td>\n",
       "      <td>0</td>\n",
       "      <td>0</td>\n",
       "      <td>0</td>\n",
       "      <td>0</td>\n",
       "      <td>0</td>\n",
       "      <td>7</td>\n",
       "      <td>2008</td>\n",
       "      <td>WD</td>\n",
       "      <td>Normal</td>\n",
       "    </tr>\n",
       "    <tr>\n",
       "      <th>303</th>\n",
       "      <td>20</td>\n",
       "      <td>RL</td>\n",
       "      <td>13704</td>\n",
       "      <td>Pave</td>\n",
       "      <td>IR1</td>\n",
       "      <td>Lvl</td>\n",
       "      <td>AllPub</td>\n",
       "      <td>Corner</td>\n",
       "      <td>Gtl</td>\n",
       "      <td>CollgCr</td>\n",
       "      <td>...</td>\n",
       "      <td>81</td>\n",
       "      <td>0</td>\n",
       "      <td>0</td>\n",
       "      <td>0</td>\n",
       "      <td>0</td>\n",
       "      <td>0</td>\n",
       "      <td>1</td>\n",
       "      <td>2006</td>\n",
       "      <td>WD</td>\n",
       "      <td>Normal</td>\n",
       "    </tr>\n",
       "  </tbody>\n",
       "</table>\n",
       "<p>5 rows × 60 columns</p>\n",
       "</div>"
      ],
      "text/plain": [
       "     MSSubClass MSZoning  LotArea Street LotShape LandContour Utilities  \\\n",
       "Id                                                                        \n",
       "619          20       RL    11694   Pave      Reg         Lvl    AllPub   \n",
       "871          20       RL     6600   Pave      Reg         Lvl    AllPub   \n",
       "93           30       RL    13360   Pave      IR1         HLS    AllPub   \n",
       "818          20       RL    13265   Pave      IR1         Lvl    AllPub   \n",
       "303          20       RL    13704   Pave      IR1         Lvl    AllPub   \n",
       "\n",
       "    LotConfig LandSlope Neighborhood  ... OpenPorchSF EnclosedPorch 3SsnPorch  \\\n",
       "Id                                    ...                                       \n",
       "619    Inside       Gtl      NridgHt  ...         108             0         0   \n",
       "871    Inside       Gtl        NAmes  ...           0             0         0   \n",
       "93     Inside       Gtl      Crawfor  ...           0            44         0   \n",
       "818   CulDSac       Gtl      Mitchel  ...          59             0         0   \n",
       "303    Corner       Gtl      CollgCr  ...          81             0         0   \n",
       "\n",
       "    ScreenPorch  PoolArea  MiscVal  MoSold  YrSold SaleType SaleCondition  \n",
       "Id                                                                         \n",
       "619         260         0        0       7    2007      New       Partial  \n",
       "871           0         0        0       8    2009       WD        Normal  \n",
       "93            0         0        0       8    2009       WD        Normal  \n",
       "818           0         0        0       7    2008       WD        Normal  \n",
       "303           0         0        0       1    2006       WD        Normal  \n",
       "\n",
       "[5 rows x 60 columns]"
      ]
     },
     "execution_count": 3,
     "metadata": {},
     "output_type": "execute_result"
    }
   ],
   "source": [
    "X_train.head()"
   ]
  },
  {
   "cell_type": "markdown",
   "metadata": {},
   "source": [
    "Notice that the dataset contains both numerical and categorical variables.  You'll need to encode the categorical data before training a model.\n",
    "\n",
    "To compare different models, you'll use the same `score_dataset()` function from the tutorial.  This function reports the [mean absolute error](https://en.wikipedia.org/wiki/Mean_absolute_error) (MAE) from a random forest model."
   ]
  },
  {
   "cell_type": "code",
   "execution_count": 4,
   "metadata": {},
   "outputs": [],
   "source": [
    "from sklearn.ensemble import RandomForestRegressor\n",
    "from sklearn.metrics import mean_absolute_error\n",
    "\n",
    "# function for comparing different approaches\n",
    "def score_dataset(X_train, X_valid, y_train, y_valid):\n",
    "    model = RandomForestRegressor(n_estimators=100, random_state=0)\n",
    "    model.fit(X_train, y_train)\n",
    "    preds = model.predict(X_valid)\n",
    "    return mean_absolute_error(y_valid, preds)"
   ]
  },
  {
   "cell_type": "markdown",
   "metadata": {},
   "source": [
    "# Step 1: Drop columns with categorical data\n",
    "\n",
    "You'll get started with the most straightforward approach.  Use the code cell below to preprocess the data in `X_train` and `X_valid` to remove columns with categorical data.  Set the preprocessed DataFrames to `drop_X_train` and `drop_X_valid`, respectively.  "
   ]
  },
  {
   "cell_type": "code",
   "execution_count": 5,
   "metadata": {},
   "outputs": [
    {
     "name": "stdout",
     "output_type": "stream",
     "text": [
      "      MSSubClass MSZoning  LotArea Street LotShape LandContour Utilities  \\\n",
      "Id                                                                         \n",
      "619           20       RL    11694   Pave      Reg         Lvl    AllPub   \n",
      "871           20       RL     6600   Pave      Reg         Lvl    AllPub   \n",
      "93            30       RL    13360   Pave      IR1         HLS    AllPub   \n",
      "818           20       RL    13265   Pave      IR1         Lvl    AllPub   \n",
      "303           20       RL    13704   Pave      IR1         Lvl    AllPub   \n",
      "...          ...      ...      ...    ...      ...         ...       ...   \n",
      "764           60       RL     9430   Pave      Reg         Lvl    AllPub   \n",
      "836           20       RL     9600   Pave      Reg         Lvl    AllPub   \n",
      "1217          90       RM     8930   Pave      Reg         Lvl    AllPub   \n",
      "560          120       RL     3196   Pave      Reg         Lvl    AllPub   \n",
      "685           60       RL    16770   Pave      IR2         Lvl    AllPub   \n",
      "\n",
      "     LotConfig LandSlope Neighborhood  ... OpenPorchSF EnclosedPorch  \\\n",
      "Id                                     ...                             \n",
      "619     Inside       Gtl      NridgHt  ...         108             0   \n",
      "871     Inside       Gtl        NAmes  ...           0             0   \n",
      "93      Inside       Gtl      Crawfor  ...           0            44   \n",
      "818    CulDSac       Gtl      Mitchel  ...          59             0   \n",
      "303     Corner       Gtl      CollgCr  ...          81             0   \n",
      "...        ...       ...          ...  ...         ...           ...   \n",
      "764     Inside       Gtl      NoRidge  ...         128             0   \n",
      "836     Inside       Gtl       Sawyer  ...           0             0   \n",
      "1217    Inside       Gtl       Sawyer  ...           0             0   \n",
      "560     Inside       Gtl      Blmngtn  ...          20             0   \n",
      "685    CulDSac       Gtl      NoRidge  ...          81             0   \n",
      "\n",
      "     3SsnPorch ScreenPorch  PoolArea  MiscVal  MoSold  YrSold SaleType  \\\n",
      "Id                                                                       \n",
      "619          0         260         0        0       7    2007      New   \n",
      "871          0           0         0        0       8    2009       WD   \n",
      "93           0           0         0        0       8    2009       WD   \n",
      "818          0           0         0        0       7    2008       WD   \n",
      "303          0           0         0        0       1    2006       WD   \n",
      "...        ...         ...       ...      ...     ...     ...      ...   \n",
      "764          0         180         0        0       7    2009       WD   \n",
      "836          0           0         0        0       2    2010       WD   \n",
      "1217         0           0         0        0       4    2010       WD   \n",
      "560          0           0         0        0      10    2006       WD   \n",
      "685          0           0         0        0       6    2010       WD   \n",
      "\n",
      "     SaleCondition  \n",
      "Id                  \n",
      "619        Partial  \n",
      "871         Normal  \n",
      "93          Normal  \n",
      "818         Normal  \n",
      "303         Normal  \n",
      "...            ...  \n",
      "764         Normal  \n",
      "836         Normal  \n",
      "1217        Normal  \n",
      "560         Normal  \n",
      "685         Normal  \n",
      "\n",
      "[1168 rows x 60 columns]\n"
     ]
    }
   ],
   "source": [
    "# Fill in the lines below: drop columns in training and validation data\n",
    "print(X_train)\n",
    "\n",
    "cols_with_missing = [] # Your code here\n",
    "\n",
    "for col in X_train.columns:\n",
    "    if type(col[0]) != int:\n",
    "        cols_with_missing.append(col)\n",
    "\n",
    "# Fill in the lines below: drop columns in training and validation data\n",
    "drop_X_train = X_train.drop(cols_with_missing, axis=1)\n",
    "drop_X_valid = X_valid.drop(cols_with_missing, axis=1)"
   ]
  },
  {
   "cell_type": "code",
   "execution_count": 6,
   "metadata": {},
   "outputs": [],
   "source": [
    "# Lines below will give you a hint or solution code\n",
    "#step_1.hint()\n",
    "#step_1.solution()"
   ]
  },
  {
   "cell_type": "markdown",
   "metadata": {},
   "source": [
    "Run the next code cell to get the MAE for this approach."
   ]
  },
  {
   "cell_type": "code",
   "execution_count": null,
   "metadata": {},
   "outputs": [],
   "source": []
  },
  {
   "cell_type": "markdown",
   "metadata": {},
   "source": [
    "Before jumping into ordinal encoding, we'll investigate the dataset.  Specifically, we'll look at the `'Condition2'` column.  The code cell below prints the unique entries in both the training and validation sets."
   ]
  },
  {
   "cell_type": "code",
   "execution_count": 7,
   "metadata": {},
   "outputs": [
    {
     "name": "stdout",
     "output_type": "stream",
     "text": [
      "Unique values in 'Condition2' column in training data: ['Norm' 'PosA' 'Feedr' 'PosN' 'Artery' 'RRAe']\n",
      "\n",
      "Unique values in 'Condition2' column in validation data: ['Norm' 'RRAn' 'RRNn' 'Artery' 'Feedr' 'PosN']\n"
     ]
    }
   ],
   "source": [
    "print(\"Unique values in 'Condition2' column in training data:\", X_train['Condition2'].unique())\n",
    "print(\"\\nUnique values in 'Condition2' column in validation data:\", X_valid['Condition2'].unique())"
   ]
  },
  {
   "cell_type": "markdown",
   "metadata": {},
   "source": [
    "# Step 2: Ordinal encoding\n",
    "\n",
    "### Part A\n",
    "\n",
    "If you now write code to: \n",
    "- fit an ordinal encoder to the training data, and then \n",
    "- use it to transform both the training and validation data, \n",
    "\n",
    "you'll get an error.  Can you see why this is the case?  (_You'll need  to use the above output to answer this question._)"
   ]
  },
  {
   "cell_type": "code",
   "execution_count": null,
   "metadata": {},
   "outputs": [],
   "source": []
  },
  {
   "cell_type": "code",
   "execution_count": 8,
   "metadata": {},
   "outputs": [],
   "source": [
    "#step_2.a.hint()"
   ]
  },
  {
   "cell_type": "markdown",
   "metadata": {},
   "source": [
    "This is a common problem that you'll encounter with real-world data, and there are many approaches to fixing this issue.  For instance, you can write a custom ordinal encoder to deal with new categories.  The simplest approach, however, is to drop the problematic categorical columns.  \n",
    "\n",
    "Run the code cell below to save the problematic columns to a Python list `bad_label_cols`.  Likewise, columns that can be safely ordinal encoded are stored in `good_label_cols`."
   ]
  },
  {
   "cell_type": "code",
   "execution_count": 9,
   "metadata": {},
   "outputs": [
    {
     "name": "stdout",
     "output_type": "stream",
     "text": [
      "Categorical columns that will be ordinal encoded: ['MSZoning', 'Street', 'LotShape', 'LandContour', 'Utilities', 'LotConfig', 'LandSlope', 'Neighborhood', 'Condition1', 'BldgType', 'HouseStyle', 'RoofStyle', 'Exterior1st', 'Exterior2nd', 'ExterQual', 'ExterCond', 'Foundation', 'Heating', 'HeatingQC', 'CentralAir', 'KitchenQual', 'PavedDrive', 'SaleType', 'SaleCondition']\n",
      "\n",
      "Categorical columns that will be dropped from the dataset: ['Condition2', 'Functional', 'RoofMatl']\n"
     ]
    }
   ],
   "source": [
    "# Categorical columns in the training data\n",
    "object_cols = [col for col in X_train.columns if X_train[col].dtype == \"object\"]\n",
    "\n",
    "# Columns that can be safely ordinal encoded\n",
    "good_label_cols = [col for col in object_cols if \n",
    "                   set(X_valid[col]).issubset(set(X_train[col]))]\n",
    "        \n",
    "# Problematic columns that will be dropped from the dataset\n",
    "bad_label_cols = list(set(object_cols)-set(good_label_cols))\n",
    "        \n",
    "print('Categorical columns that will be ordinal encoded:', good_label_cols)\n",
    "print('\\nCategorical columns that will be dropped from the dataset:', bad_label_cols)"
   ]
  },
  {
   "cell_type": "markdown",
   "metadata": {},
   "source": [
    "### Part B\n",
    "\n",
    "Use the next code cell to ordinal encode the data in `X_train` and `X_valid`.  Set the preprocessed DataFrames to `label_X_train` and `label_X_valid`, respectively.  \n",
    "- We have provided code below to drop the categorical columns in `bad_label_cols` from the dataset. \n",
    "- You should ordinal encode the categorical columns in `good_label_cols`.  "
   ]
  },
  {
   "cell_type": "code",
   "execution_count": 22,
   "metadata": {},
   "outputs": [
    {
     "name": "stdout",
     "output_type": "stream",
     "text": [
      "['C (all)', 'RM', 'RH', 'RL', 'FV']\n",
      "OrdinalEncoder(categories=[['C (all)', 'RM', 'RH', 'RL', 'FV']])\n",
      "['Grvl', 'Pave']\n",
      "OrdinalEncoder(categories=[['Grvl', 'Pave']])\n",
      "['IR1', 'IR3', 'Reg', 'IR2']\n",
      "OrdinalEncoder(categories=[['IR1', 'IR3', 'Reg', 'IR2']])\n",
      "['HLS', 'Bnk', 'Low', 'Lvl']\n",
      "OrdinalEncoder(categories=[['HLS', 'Bnk', 'Low', 'Lvl']])\n",
      "['AllPub', 'NoSeWa']\n",
      "OrdinalEncoder(categories=[['AllPub', 'NoSeWa']])\n",
      "['Corner', 'Inside', 'FR3', 'FR2', 'CulDSac']\n",
      "OrdinalEncoder(categories=[['Corner', 'Inside', 'FR3', 'FR2', 'CulDSac']])\n",
      "['Sev', 'Mod', 'Gtl']\n",
      "OrdinalEncoder(categories=[['Sev', 'Mod', 'Gtl']])\n",
      "['Timber', 'Crawfor', 'OldTown', 'Somerst', 'Gilbert', 'NridgHt', 'Edwards', 'Mitchel', 'NoRidge', 'SawyerW', 'NWAmes', 'MeadowV', 'NAmes', 'Blmngtn', 'Sawyer', 'Blueste', 'IDOTRR', 'Veenker', 'StoneBr', 'BrkSide', 'BrDale', 'CollgCr', 'ClearCr', 'NPkVill', 'SWISU']\n",
      "OrdinalEncoder(categories=[['Timber', 'Crawfor', 'OldTown', 'Somerst',\n",
      "                            'Gilbert', 'NridgHt', 'Edwards', 'Mitchel',\n",
      "                            'NoRidge', 'SawyerW', 'NWAmes', 'MeadowV', 'NAmes',\n",
      "                            'Blmngtn', 'Sawyer', 'Blueste', 'IDOTRR', 'Veenker',\n",
      "                            'StoneBr', 'BrkSide', 'BrDale', 'CollgCr',\n",
      "                            'ClearCr', 'NPkVill', 'SWISU']])\n",
      "['PosA', 'PosN', 'RRNe', 'RRAn', 'Artery', 'RRNn', 'Norm', 'Feedr', 'RRAe']\n",
      "OrdinalEncoder(categories=[['PosA', 'PosN', 'RRNe', 'RRAn', 'Artery', 'RRNn',\n",
      "                            'Norm', 'Feedr', 'RRAe']])\n",
      "['1Fam', 'Duplex', 'TwnhsE', 'Twnhs', '2fmCon']\n",
      "OrdinalEncoder(categories=[['1Fam', 'Duplex', 'TwnhsE', 'Twnhs', '2fmCon']])\n",
      "['1.5Unf', 'SFoyer', 'SLvl', '2.5Fin', '2Story', '1Story', '2.5Unf', '1.5Fin']\n",
      "OrdinalEncoder(categories=[['1.5Unf', 'SFoyer', 'SLvl', '2.5Fin', '2Story',\n",
      "                            '1Story', '2.5Unf', '1.5Fin']])\n",
      "['Gable', 'Mansard', 'Shed', 'Gambrel', 'Hip', 'Flat']\n",
      "OrdinalEncoder(categories=[['Gable', 'Mansard', 'Shed', 'Gambrel', 'Hip',\n",
      "                            'Flat']])\n",
      "['Stucco', 'CBlock', 'Plywood', 'Wd Sdng', 'WdShing', 'AsbShng', 'AsphShn', 'HdBoard', 'BrkComm', 'CemntBd', 'ImStucc', 'MetalSd', 'VinylSd', 'BrkFace', 'Stone']\n",
      "OrdinalEncoder(categories=[['Stucco', 'CBlock', 'Plywood', 'Wd Sdng', 'WdShing',\n",
      "                            'AsbShng', 'AsphShn', 'HdBoard', 'BrkComm',\n",
      "                            'CemntBd', 'ImStucc', 'MetalSd', 'VinylSd',\n",
      "                            'BrkFace', 'Stone']])\n",
      "['Stucco', 'CBlock', 'Wd Sdng', 'Plywood', 'Wd Shng', 'AsbShng', 'AsphShn', 'HdBoard', 'Brk Cmn', 'ImStucc', 'MetalSd', 'Other', 'VinylSd', 'CmentBd', 'BrkFace', 'Stone']\n",
      "OrdinalEncoder(categories=[['Stucco', 'CBlock', 'Wd Sdng', 'Plywood', 'Wd Shng',\n",
      "                            'AsbShng', 'AsphShn', 'HdBoard', 'Brk Cmn',\n",
      "                            'ImStucc', 'MetalSd', 'Other', 'VinylSd', 'CmentBd',\n",
      "                            'BrkFace', 'Stone']])\n",
      "['Ex', 'TA', 'Gd', 'Fa']\n",
      "OrdinalEncoder(categories=[['Ex', 'TA', 'Gd', 'Fa']])\n",
      "['TA', 'Po', 'Ex', 'Fa', 'Gd']\n",
      "OrdinalEncoder(categories=[['TA', 'Po', 'Ex', 'Fa', 'Gd']])\n",
      "['CBlock', 'PConc', 'Wood', 'BrkTil', 'Slab', 'Stone']\n",
      "OrdinalEncoder(categories=[['CBlock', 'PConc', 'Wood', 'BrkTil', 'Slab',\n",
      "                            'Stone']])\n",
      "['GasW', 'Floor', 'Wall', 'Grav', 'OthW', 'GasA']\n",
      "OrdinalEncoder(categories=[['GasW', 'Floor', 'Wall', 'Grav', 'OthW', 'GasA']])\n",
      "['TA', 'Po', 'Ex', 'Fa', 'Gd']\n",
      "OrdinalEncoder(categories=[['TA', 'Po', 'Ex', 'Fa', 'Gd']])\n",
      "['N', 'Y']\n",
      "OrdinalEncoder(categories=[['N', 'Y']])\n",
      "['Ex', 'TA', 'Gd', 'Fa']\n",
      "OrdinalEncoder(categories=[['Ex', 'TA', 'Gd', 'Fa']])\n",
      "['N', 'P', 'Y']\n",
      "OrdinalEncoder(categories=[['N', 'P', 'Y']])\n",
      "['ConLw', 'Oth', 'CWD', 'ConLD', 'COD', 'New', 'Con', 'ConLI', 'WD']\n",
      "OrdinalEncoder(categories=[['ConLw', 'Oth', 'CWD', 'ConLD', 'COD', 'New', 'Con',\n",
      "                            'ConLI', 'WD']])\n",
      "['Family', 'Alloca', 'Normal', 'AdjLand', 'Partial', 'Abnorml']\n",
      "OrdinalEncoder(categories=[['Family', 'Alloca', 'Normal', 'AdjLand', 'Partial',\n",
      "                            'Abnorml']])\n",
      "      MSSubClass  MSZoning  LotArea  Street  LotShape  LandContour  Utilities  \\\n",
      "Id                                                                              \n",
      "619           20       3.0    11694     1.0       2.0          3.0        0.0   \n",
      "871           20       3.0     6600     1.0       2.0          3.0        0.0   \n",
      "93            30       3.0    13360     1.0       0.0          0.0        0.0   \n",
      "818           20       3.0    13265     1.0       0.0          3.0        0.0   \n",
      "303           20       3.0    13704     1.0       0.0          3.0        0.0   \n",
      "...          ...       ...      ...     ...       ...          ...        ...   \n",
      "764           60       3.0     9430     1.0       2.0          3.0        0.0   \n",
      "836           20       3.0     9600     1.0       2.0          3.0        0.0   \n",
      "1217          90       1.0     8930     1.0       2.0          3.0        0.0   \n",
      "560          120       3.0     3196     1.0       2.0          3.0        0.0   \n",
      "685           60       3.0    16770     1.0       3.0          3.0        0.0   \n",
      "\n",
      "      LotConfig  LandSlope  Neighborhood  ...  OpenPorchSF  EnclosedPorch  \\\n",
      "Id                                        ...                               \n",
      "619         1.0        2.0           5.0  ...          108              0   \n",
      "871         1.0        2.0          12.0  ...            0              0   \n",
      "93          1.0        2.0           1.0  ...            0             44   \n",
      "818         4.0        2.0           7.0  ...           59              0   \n",
      "303         0.0        2.0          21.0  ...           81              0   \n",
      "...         ...        ...           ...  ...          ...            ...   \n",
      "764         1.0        2.0           8.0  ...          128              0   \n",
      "836         1.0        2.0          14.0  ...            0              0   \n",
      "1217        1.0        2.0          14.0  ...            0              0   \n",
      "560         1.0        2.0          13.0  ...           20              0   \n",
      "685         4.0        2.0           8.0  ...           81              0   \n",
      "\n",
      "      3SsnPorch  ScreenPorch  PoolArea  MiscVal  MoSold  YrSold  SaleType  \\\n",
      "Id                                                                          \n",
      "619           0          260         0        0       7    2007       5.0   \n",
      "871           0            0         0        0       8    2009       8.0   \n",
      "93            0            0         0        0       8    2009       8.0   \n",
      "818           0            0         0        0       7    2008       8.0   \n",
      "303           0            0         0        0       1    2006       8.0   \n",
      "...         ...          ...       ...      ...     ...     ...       ...   \n",
      "764           0          180         0        0       7    2009       8.0   \n",
      "836           0            0         0        0       2    2010       8.0   \n",
      "1217          0            0         0        0       4    2010       8.0   \n",
      "560           0            0         0        0      10    2006       8.0   \n",
      "685           0            0         0        0       6    2010       8.0   \n",
      "\n",
      "      SaleCondition  \n",
      "Id                   \n",
      "619             4.0  \n",
      "871             2.0  \n",
      "93              2.0  \n",
      "818             2.0  \n",
      "303             2.0  \n",
      "...             ...  \n",
      "764             2.0  \n",
      "836             2.0  \n",
      "1217            2.0  \n",
      "560             2.0  \n",
      "685             2.0  \n",
      "\n",
      "[1168 rows x 57 columns]\n"
     ]
    }
   ],
   "source": [
    "from sklearn.preprocessing import OrdinalEncoder\n",
    "import numpy as np\n",
    "\n",
    "label_X_train = X_train.drop(bad_label_cols, axis=1)\n",
    "label_X_valid = X_valid.drop(bad_label_cols, axis=1)\n",
    "\n",
    "# Drop categorical columns that will not be encoded\n",
    "# Apply ordinal encoder \n",
    "for col in good_label_cols:\n",
    "    a = X_train[col]\n",
    "    unique = list(set(a))\n",
    "    print(unique)\n",
    "    encoder = OrdinalEncoder(categories=[unique])\n",
    "    print(encoder)\n",
    "    label_X_train[col] = encoder.fit_transform(label_X_train[[col]])\n",
    "    label_X_valid[col] = encoder.fit_transform(label_X_valid[[col]])\n",
    "\n",
    "print(label_X_train)"
   ]
  },
  {
   "cell_type": "code",
   "execution_count": 11,
   "metadata": {},
   "outputs": [],
   "source": [
    "# Lines below will give you a hint or solution code\n",
    "#step_2.b.hint()\n",
    "#step_2.b.solution()"
   ]
  },
  {
   "cell_type": "markdown",
   "metadata": {},
   "source": [
    "Run the next code cell to get the MAE for this approach."
   ]
  },
  {
   "cell_type": "code",
   "execution_count": 12,
   "metadata": {},
   "outputs": [
    {
     "name": "stdout",
     "output_type": "stream",
     "text": [
      "MAE from Approach 2 (Ordinal Encoding):\n",
      "17403.199988584474\n"
     ]
    }
   ],
   "source": [
    "print(\"MAE from Approach 2 (Ordinal Encoding):\") \n",
    "print(score_dataset(label_X_train, label_X_valid, y_train, y_valid))"
   ]
  },
  {
   "cell_type": "markdown",
   "metadata": {},
   "source": [
    "So far, you've tried two different approaches to dealing with categorical variables.  And, you've seen that encoding categorical data yields better results than removing columns from the dataset.\n",
    "\n",
    "Soon, you'll try one-hot encoding.  Before then, there's one additional topic we need to cover.  Begin by running the next code cell without changes.  "
   ]
  },
  {
   "cell_type": "code",
   "execution_count": 13,
   "metadata": {},
   "outputs": [
    {
     "data": {
      "text/plain": [
       "[('Street', 2),\n",
       " ('Utilities', 2),\n",
       " ('CentralAir', 2),\n",
       " ('LandSlope', 3),\n",
       " ('PavedDrive', 3),\n",
       " ('LotShape', 4),\n",
       " ('LandContour', 4),\n",
       " ('ExterQual', 4),\n",
       " ('KitchenQual', 4),\n",
       " ('MSZoning', 5),\n",
       " ('LotConfig', 5),\n",
       " ('BldgType', 5),\n",
       " ('ExterCond', 5),\n",
       " ('HeatingQC', 5),\n",
       " ('Condition2', 6),\n",
       " ('RoofStyle', 6),\n",
       " ('Foundation', 6),\n",
       " ('Heating', 6),\n",
       " ('Functional', 6),\n",
       " ('SaleCondition', 6),\n",
       " ('RoofMatl', 7),\n",
       " ('HouseStyle', 8),\n",
       " ('Condition1', 9),\n",
       " ('SaleType', 9),\n",
       " ('Exterior1st', 15),\n",
       " ('Exterior2nd', 16),\n",
       " ('Neighborhood', 25)]"
      ]
     },
     "execution_count": 13,
     "metadata": {},
     "output_type": "execute_result"
    }
   ],
   "source": [
    "# Get number of unique entries in each column with categorical data\n",
    "object_nunique = list(map(lambda col: X_train[col].nunique(), object_cols))\n",
    "d = dict(zip(object_cols, object_nunique))\n",
    "\n",
    "# Print number of unique entries by column, in ascending order\n",
    "sorted(d.items(), key=lambda x: x[1])"
   ]
  },
  {
   "cell_type": "markdown",
   "metadata": {},
   "source": [
    "# Step 3: Investigating cardinality\n",
    "\n",
    "### Part A\n",
    "\n",
    "The output above shows, for each column with categorical data, the number of unique values in the column.  For instance, the `'Street'` column in the training data has two unique values: `'Grvl'` and `'Pave'`, corresponding to a gravel road and a paved road, respectively.\n",
    "\n",
    "We refer to the number of unique entries of a categorical variable as the **cardinality** of that categorical variable.  For instance, the `'Street'` variable has cardinality 2.\n",
    "\n",
    "Use the output above to answer the questions below."
   ]
  },
  {
   "cell_type": "code",
   "execution_count": 14,
   "metadata": {},
   "outputs": [],
   "source": [
    "# Fill in the line below: How many categorical variables in the training data\n",
    "# have cardinality greater than 10?\n",
    "high_cardinality_numcols = ['Neighborhood', 'Exterior2nd','Exterior1st']\n",
    "\n",
    "# Fill in the line below: How many columns are needed to one-hot encode the \n",
    "# 'Neighborhood' variable in the training data?\n",
    "num_cols_neighborhood = 25"
   ]
  },
  {
   "cell_type": "code",
   "execution_count": 15,
   "metadata": {},
   "outputs": [],
   "source": [
    "# Lines below will give you a hint or solution code\n",
    "#step_3.a.hint()\n",
    "#step_3.a.solution()"
   ]
  },
  {
   "cell_type": "markdown",
   "metadata": {},
   "source": [
    "### Part B\n",
    "\n",
    "For large datasets with many rows, one-hot encoding can greatly expand the size of the dataset.  For this reason, we typically will only one-hot encode columns with relatively low cardinality.  Then, high cardinality columns can either be dropped from the dataset, or we can use ordinal encoding.\n",
    "\n",
    "As an example, consider a dataset with 10,000 rows, and containing one categorical column with 100 unique entries.  \n",
    "- If this column is replaced with the corresponding one-hot encoding, how many entries are added to the dataset?  \n",
    "- If we instead replace the column with the ordinal encoding, how many entries are added?  \n",
    "\n",
    "Use your answers to fill in the lines below."
   ]
  },
  {
   "cell_type": "code",
   "execution_count": 16,
   "metadata": {},
   "outputs": [],
   "source": [
    "# Fill in the line below: How many entries are added to the dataset by \n",
    "# replacing the column with a one-hot encoding?\n",
    "OH_entries_added = 990000\n",
    "\n",
    "# Fill in the line below: How many entries are added to the dataset by\n",
    "# replacing the column with an ordinal encoding?\n",
    "label_entries_added = 0\n"
   ]
  },
  {
   "cell_type": "code",
   "execution_count": 17,
   "metadata": {},
   "outputs": [],
   "source": [
    "# Lines below will give you a hint or solution code\n",
    "#step_3.b.hint()\n",
    "#step_3.b.solution()"
   ]
  },
  {
   "cell_type": "markdown",
   "metadata": {},
   "source": [
    "Next, you'll experiment with one-hot encoding.  But, instead of encoding all of the categorical variables in the dataset, you'll only create a one-hot encoding for columns with cardinality less than 10.\n",
    "\n",
    "Run the code cell below without changes to set `low_cardinality_cols` to a Python list containing the columns that will be one-hot encoded.  Likewise, `high_cardinality_cols` contains a list of categorical columns that will be dropped from the dataset."
   ]
  },
  {
   "cell_type": "code",
   "execution_count": 18,
   "metadata": {},
   "outputs": [
    {
     "name": "stdout",
     "output_type": "stream",
     "text": [
      "Categorical columns that will be one-hot encoded: ['MSZoning', 'Street', 'LotShape', 'LandContour', 'Utilities', 'LotConfig', 'LandSlope', 'Condition1', 'Condition2', 'BldgType', 'HouseStyle', 'RoofStyle', 'RoofMatl', 'ExterQual', 'ExterCond', 'Foundation', 'Heating', 'HeatingQC', 'CentralAir', 'KitchenQual', 'Functional', 'PavedDrive', 'SaleType', 'SaleCondition']\n",
      "\n",
      "Categorical columns that will be dropped from the dataset: ['Neighborhood', 'Exterior1st', 'Exterior2nd']\n"
     ]
    }
   ],
   "source": [
    "# Columns that will be one-hot encoded\n",
    "low_cardinality_cols = [col for col in object_cols if X_train[col].nunique() < 10]\n",
    "\n",
    "# Columns that will be dropped from the dataset\n",
    "high_cardinality_cols = list(set(object_cols)-set(low_cardinality_cols))\n",
    "\n",
    "print('Categorical columns that will be one-hot encoded:', low_cardinality_cols)\n",
    "print('\\nCategorical columns that will be dropped from the dataset:', high_cardinality_cols)"
   ]
  },
  {
   "cell_type": "markdown",
   "metadata": {},
   "source": [
    "# Step 4: One-hot encoding\n",
    "\n",
    "Use the next code cell to one-hot encode the data in `X_train` and `X_valid`.  Set the preprocessed DataFrames to `OH_X_train` and `OH_X_valid`, respectively.  \n",
    "- The full list of categorical columns in the dataset can be found in the Python list `object_cols`.\n",
    "- You should only one-hot encode the categorical columns in `low_cardinality_cols`.  All other categorical columns should be dropped from the dataset. "
   ]
  },
  {
   "cell_type": "code",
   "execution_count": 19,
   "metadata": {},
   "outputs": [
    {
     "name": "stdout",
     "output_type": "stream",
     "text": [
      "      MSSubClass  LotArea Neighborhood  OverallQual  OverallCond  YearBuilt  \\\n",
      "Id                                                                            \n",
      "619           20    11694      NridgHt            9            5       2007   \n",
      "871           20     6600        NAmes            5            5       1962   \n",
      "93            30    13360      Crawfor            5            7       1921   \n",
      "818           20    13265      Mitchel            8            5       2002   \n",
      "303           20    13704      CollgCr            7            5       2001   \n",
      "...          ...      ...          ...          ...          ...        ...   \n",
      "764           60     9430      NoRidge            8            5       1999   \n",
      "836           20     9600       Sawyer            4            7       1950   \n",
      "1217          90     8930       Sawyer            6            5       1978   \n",
      "560          120     3196      Blmngtn            7            5       2003   \n",
      "685           60    16770      NoRidge            7            5       1998   \n",
      "\n",
      "      YearRemodAdd Exterior1st Exterior2nd  BsmtFinSF1  ...  SaleType_ConLI  \\\n",
      "Id                                                      ...                   \n",
      "619           2007     CemntBd     CmentBd          48  ...           False   \n",
      "871           1962     MetalSd     MetalSd           0  ...           False   \n",
      "93            2006     Wd Sdng     Wd Sdng         713  ...           False   \n",
      "818           2002     CemntBd     CmentBd        1218  ...           False   \n",
      "303           2002     VinylSd     VinylSd           0  ...           False   \n",
      "...            ...         ...         ...         ...  ...             ...   \n",
      "764           1999     VinylSd     VinylSd        1163  ...           False   \n",
      "836           1995     VinylSd     HdBoard         442  ...           False   \n",
      "1217          1978     VinylSd     VinylSd           0  ...           False   \n",
      "560           2004     VinylSd     VinylSd           0  ...           False   \n",
      "685           1998     VinylSd     VinylSd           0  ...           False   \n",
      "\n",
      "      SaleType_ConLw  SaleType_New  SaleType_Oth  SaleType_WD  \\\n",
      "Id                                                              \n",
      "619            False          True         False        False   \n",
      "871            False         False         False         True   \n",
      "93             False         False         False         True   \n",
      "818            False         False         False         True   \n",
      "303            False         False         False         True   \n",
      "...              ...           ...           ...          ...   \n",
      "764            False         False         False         True   \n",
      "836            False         False         False         True   \n",
      "1217           False         False         False         True   \n",
      "560            False         False         False         True   \n",
      "685            False         False         False         True   \n",
      "\n",
      "      SaleCondition_AdjLand  SaleCondition_Alloca  SaleCondition_Family  \\\n",
      "Id                                                                        \n",
      "619                   False                 False                 False   \n",
      "871                   False                 False                 False   \n",
      "93                    False                 False                 False   \n",
      "818                   False                 False                 False   \n",
      "303                   False                 False                 False   \n",
      "...                     ...                   ...                   ...   \n",
      "764                   False                 False                 False   \n",
      "836                   False                 False                 False   \n",
      "1217                  False                 False                 False   \n",
      "560                   False                 False                 False   \n",
      "685                   False                 False                 False   \n",
      "\n",
      "      SaleCondition_Normal  SaleCondition_Partial  \n",
      "Id                                                 \n",
      "619                  False                   True  \n",
      "871                   True                  False  \n",
      "93                    True                  False  \n",
      "818                   True                  False  \n",
      "303                   True                  False  \n",
      "...                    ...                    ...  \n",
      "764                   True                  False  \n",
      "836                   True                  False  \n",
      "1217                  True                  False  \n",
      "560                   True                  False  \n",
      "685                   True                  False  \n",
      "\n",
      "[1168 rows x 134 columns]\n"
     ]
    }
   ],
   "source": [
    "from sklearn.preprocessing import OneHotEncoder\n",
    "\n",
    "# Use as many lines of code as you need!\n",
    "\n",
    "OH_X_train = pd.get_dummies(X_train, columns=low_cardinality_cols, drop_first=True) # Your code here\n",
    "print(OH_X_train)\n",
    "OH_X_valid = pd.get_dummies(X_train, columns=low_cardinality_cols, drop_first=True) # Your code here\n",
    "\n",
    "encoder = OneHotEncoder(sparse_output=False)\n",
    "\n",
    "one_hot_encoded = encoder.fit_transform(X_train[low_cardinality_cols])\n",
    "\n",
    "one_hot_df = pd.DataFrame(one_hot_encoded, \n",
    "                          columns=encoder.get_feature_names_out(low_cardinality_cols))\n",
    "\n",
    "OH_X_train = pd.concat([X_train.drop(low_cardinality_cols, axis=1), one_hot_df], axis=1)"
   ]
  },
  {
   "cell_type": "code",
   "execution_count": 20,
   "metadata": {},
   "outputs": [],
   "source": [
    "# Lines below will give you a hint or solution code\n",
    "#step_4.hint()\n",
    "#step_4.solution()"
   ]
  },
  {
   "cell_type": "markdown",
   "metadata": {},
   "source": [
    "Run the next code cell to get the MAE for this approach."
   ]
  },
  {
   "cell_type": "code",
   "execution_count": null,
   "metadata": {},
   "outputs": [],
   "source": []
  },
  {
   "cell_type": "markdown",
   "metadata": {},
   "source": [
    "# Generate test predictions and submit your results\n",
    "\n",
    "After you complete Step 4, if you'd like to use what you've learned to submit your results to the leaderboard, you'll need to preprocess the test data before generating predictions.\n",
    "\n",
    "**This step is completely optional, and you do not need to submit results to the leaderboard to successfully complete the exercise.**\n",
    "\n",
    "Check out the previous exercise if you need help with remembering how to [join the competition](https://www.kaggle.com/c/home-data-for-ml-course) or save your results to CSV.  Once you have generated a file with your results, follow the instructions below:\n",
    "1. Begin by clicking on the **Save Version** button in the top right corner of the window.  This will generate a pop-up window.  \n",
    "2. Ensure that the **Save and Run All** option is selected, and then click on the **Save** button.\n",
    "3. This generates a window in the bottom left corner of the notebook.  After it has finished running, click on the number to the right of the **Save Version** button.  This pulls up a list of versions on the right of the screen.  Click on the ellipsis **(...)** to the right of the most recent version, and select **Open in Viewer**.  This brings you into view mode of the same page. You will need to scroll down to get back to these instructions.\n",
    "4. Click on the **Data** tab near the top of the screen.  Then, click on the file you would like to submit, and click on the **Submit** button to submit your results to the leaderboard.\n",
    "\n",
    "You have now successfully submitted to the competition!\n",
    "\n",
    "If you want to keep working to improve your performance, select the **Edit** button in the top right of the screen. Then you can change your code and repeat the process. There's a lot of room to improve, and you will climb up the leaderboard as you work.\n"
   ]
  },
  {
   "cell_type": "code",
   "execution_count": null,
   "metadata": {},
   "outputs": [],
   "source": [
    "# (Optional) Your code here"
   ]
  },
  {
   "cell_type": "markdown",
   "metadata": {},
   "source": [
    "# Keep going\n",
    "\n",
    "With missing value handling and categorical encoding, your modeling process is getting complex. This complexity gets worse when you want to save your model to use in the future. The key to managing this complexity is something called **pipelines**. \n",
    "\n",
    "**[Learn to use pipelines](https://www.kaggle.com/alexisbcook/pipelines)** to preprocess datasets with categorical variables, missing values and any other messiness your data throws at you."
   ]
  },
  {
   "cell_type": "markdown",
   "metadata": {},
   "source": [
    "---\n",
    "\n",
    "\n",
    "\n",
    "\n",
    "*Have questions or comments? Visit the [course discussion forum](https://www.kaggle.com/learn/intermediate-machine-learning/discussion) to chat with other learners.*"
   ]
  }
 ],
 "metadata": {
  "kaggle": {
   "accelerator": "none",
   "dataSources": [
    {
     "databundleVersionId": 111096,
     "sourceId": 10211,
     "sourceType": "competition"
    }
   ],
   "isGpuEnabled": false,
   "isInternetEnabled": false,
   "language": "python",
   "sourceType": "notebook"
  },
  "kernelspec": {
   "display_name": "Python 3 (ipykernel)",
   "language": "python",
   "name": "python3"
  },
  "language_info": {
   "codemirror_mode": {
    "name": "ipython",
    "version": 3
   },
   "file_extension": ".py",
   "mimetype": "text/x-python",
   "name": "python",
   "nbconvert_exporter": "python",
   "pygments_lexer": "ipython3",
   "version": "3.12.4"
  }
 },
 "nbformat": 4,
 "nbformat_minor": 4
}
